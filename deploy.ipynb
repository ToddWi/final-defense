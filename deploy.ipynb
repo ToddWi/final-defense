{
 "cells": [
  {
   "cell_type": "code",
   "execution_count": 1,
   "id": "eea9b268",
   "metadata": {},
   "outputs": [
    {
     "name": "stdout",
     "output_type": "stream",
     "text": [
      "Cloning into 'v1-ft2'...\n",
      "remote: Enumerating objects: 4, done.\u001b[K\n",
      "remote: Total 4 (delta 0), reused 0 (delta 0), pack-reused 4 (from 1)\u001b[K\n",
      "Unpacking objects: 100% (4/4), 1.29 KiB | 659.00 KiB/s, done.\n"
     ]
    }
   ],
   "source": [
    "import shutil\n",
    "import os\n",
    "\n",
    "# 기존 디렉토리 삭제\n",
    "if os.path.exists(\"v1-ft2\"):\n",
    "    shutil.rmtree(\"v1-ft2\")\n",
    "\n",
    "!git clone https://huggingface.co/spaces/dnlxodnr/v1-ft2\n"
   ]
  },
  {
   "cell_type": "code",
   "execution_count": 15,
   "id": "dc871024",
   "metadata": {},
   "outputs": [
    {
     "name": "stdout",
     "output_type": "stream",
     "text": [
      "total 2511873\r\n",
      "drwxr-xr-x 15 work work       4096 Dec 13 14:34 .\r\n",
      "drwxr-xr-x  4 work work       4096 Dec  2 11:42 ..\r\n",
      "drwxr-xr-x  8 work work       4096 Nov 25 10:00 .git\r\n",
      "-rw-r--r--  1 work work         31 Nov 25 10:00 .gitignore\r\n",
      "drwxr-xr-x  2 work work       4096 Dec 13 14:16 .ipynb_checkpoints\r\n",
      "-rw-r--r--  1 work work      11357 Nov 25 10:00 LICENSE\r\n",
      "drwxr-xr-x  2 work work       4096 Dec 13 10:08 LISA-13B-ft\r\n",
      "drwxr-xr-x  2 work work       4096 Dec 11 13:01 LISA-7B-ft\r\n",
      "-rw-r--r--  1 work work      17396 Dec  2 12:43 README.md\r\n",
      "-rw-r--r--  1 work work      10816 Nov 25 10:00 app.py\r\n",
      "-rw-r--r--  1 work work       8692 Nov 25 10:00 chat.py\r\n",
      "-rw-r--r--  1 work work      24951 Dec 13 14:33 deploy.ipynb\r\n",
      "-rw-r--r--  1 work work       1170 Dec  9 08:37 dummy.pt\r\n",
      "drwxr-xr-x  2 work work       4096 Nov 25 10:00 imgs\r\n",
      "-rw-r--r--  1 work work      19033 Dec  4 09:03 jsonformtest.ipynb\r\n",
      "-rw-r--r--  1 work work       6718 Dec 11 12:59 merge_lora_weights_and_save_hf_model.py\r\n",
      "drwxr-xr-x  2 work work       4096 Dec 13 10:22 merged_LISA-13B-ft\r\n",
      "drwxr-xr-x  2 work work       4096 Dec 13 10:25 merged_LISA-7B-ft\r\n",
      "drwxr-xr-x  7 work work       4096 Dec 13 14:26 model\r\n",
      "-rw-r--r--  1 work work        284 Dec  3 05:15 requirements.txt\r\n",
      "drwxr-xr-x  6 work work       4096 Dec 13 11:08 runs\r\n",
      "drwxr-xr-x  6 work work       4096 Dec 11 13:31 runs_llava_v1\r\n",
      "-rw-r--r--  1 work work 2564550879 Apr  4  2023 sam_vit_h_4b8939.pth\r\n",
      "-rw-r--r--  1 work work    5920320 Dec 13 10:05 script.ipynb\r\n",
      "-rw-r--r--  1 work work         72 Dec 11 13:17 test.ipynb\r\n",
      "-rw-r--r--  1 work work      21317 Dec 13 11:05 train_ds.py\r\n",
      "drwxr-xr-x  4 work work       4096 Dec 11 15:37 utils\r\n",
      "drwxr-xr-x  3 work work       4096 Dec 13 14:34 v1-ft2\r\n",
      "-rw-r--r--  1 work work    1427068 Dec 13 11:40 val.ipynb\r\n",
      "drwxr-xr-x  2 work work       4096 Nov 25 10:00 vis_output\r\n",
      "-rw-r--r--  1 work work      10455 Dec 13 10:26 weightmerge.ipynb\r\n"
     ]
    }
   ],
   "source": [
    "!ls -la\n",
    "\n"
   ]
  },
  {
   "cell_type": "code",
   "execution_count": 2,
   "id": "1e3acd6d",
   "metadata": {},
   "outputs": [
    {
     "name": "stdout",
     "output_type": "stream",
     "text": [
      "total 4\r\n",
      "drwxr-xr-x  3 work work 4096 Dec 15 03:09 .\r\n",
      "drwxr-xr-x 15 work work 4096 Dec 15 03:09 ..\r\n",
      "drwxr-xr-x  8 work work 4096 Dec 15 03:09 .git\r\n",
      "-rw-r--r--  1 work work 1519 Dec 15 03:09 .gitattributes\r\n",
      "-rw-r--r--  1 work work  270 Dec 15 03:09 README.md\r\n"
     ]
    }
   ],
   "source": [
    "!ls -la v1-ft2\n"
   ]
  },
  {
   "cell_type": "code",
   "execution_count": 17,
   "id": "fca8484d",
   "metadata": {},
   "outputs": [
    {
     "name": "stdout",
     "output_type": "stream",
     "text": [
      "모델 파일이 v1-ft2/model에 복사되었습니다.\n"
     ]
    }
   ],
   "source": [
    "import shutil\n",
    "\n",
    "# 모델 파일 복사\n",
    "src_path = \"/home/work/Project/Lisa/merged_LISA-7B-ft\"\n",
    "dst_path = \"v1-ft2/model\"  # Spaces에 모델을 업로드할 디렉토리\n",
    "\n",
    "# 모델 디렉토리가 없다면 생성\n",
    "shutil.rmtree(dst_path, ignore_errors=True)  # 기존 폴더 제거\n",
    "shutil.copytree(src_path, dst_path)\n",
    "\n",
    "print(f\"모델 파일이 {dst_path}에 복사되었습니다.\")\n"
   ]
  },
  {
   "cell_type": "code",
   "execution_count": null,
   "id": "6189cf32",
   "metadata": {},
   "outputs": [],
   "source": [
    "# 디렉토리 이동\n",
    "!cd v1-ft2\n",
    "\n",
    "# 변경 사항 스테이징\n",
    "!cd v1-ft2 && git add .\n",
    "\n",
    "# 커밋\n",
    "!cd v1-ft2 && git commit -m \"Add model files to Spaces\"\n",
    "\n",
    "# 푸시\n",
    "!cd v1-ft2 && git push\n"
   ]
  },
  {
   "cell_type": "code",
   "execution_count": 3,
   "id": "ade0931d",
   "metadata": {},
   "outputs": [
    {
     "name": "stdout",
     "output_type": "stream",
     "text": [
      "/home/work/Project/Lisa/requirements.txt 파일이 v1-ft2/requirements.txt로 복사되었습니다.\n"
     ]
    }
   ],
   "source": [
    "import shutil\n",
    "\n",
    "# requirements.txt 파일 경로\n",
    "src_path = \"/home/work/Project/Lisa/requirements.txt\"\n",
    "dst_path = \"v1-ft2/requirements.txt\"  # Spaces의 목적지 경로\n",
    "\n",
    "# 파일 복사\n",
    "shutil.copy(src_path, dst_path)\n",
    "\n",
    "print(f\"{src_path} 파일이 {dst_path}로 복사되었습니다.\")\n"
   ]
  },
  {
   "cell_type": "code",
   "execution_count": null,
   "id": "aefe2e2d",
   "metadata": {},
   "outputs": [
    {
     "name": "stdout",
     "output_type": "stream",
     "text": [
      "\n",
      "*** Please tell me who you are.\n",
      "\n",
      "Run\n",
      "\n",
      "  git config --global user.email \"you@example.com\"\n",
      "  git config --global user.name \"Your Name\"\n",
      "\n",
      "to set your account's default identity.\n",
      "Omit --global to set the identity only in this repository.\n",
      "\n",
      "fatal: unable to auto-detect email address (got 'work@main1.(none)')\n",
      "Username for 'https://huggingface.co': "
     ]
    }
   ],
   "source": [
    "# 디렉토리 이동\n",
    "!cd v1-ft2\n",
    "\n",
    "# 변경 사항 스테이징\n",
    "!cd v1-ft2 && git add .\n",
    "\n",
    "# 커밋\n",
    "!cd v1-ft2 && git commit -m \"Add model files to Spaces\"\n",
    "\n",
    "# 푸시\n",
    "!cd v1-ft2 && git push"
   ]
  }
 ],
 "metadata": {
  "kernelspec": {
   "display_name": "PyTorch 1.13 (NGC 22.05/Python 3.8 Conda) on Backend.AI",
   "language": "python",
   "name": "python3"
  },
  "language_info": {
   "codemirror_mode": {
    "name": "ipython",
    "version": 3
   },
   "file_extension": ".py",
   "mimetype": "text/x-python",
   "name": "python",
   "nbconvert_exporter": "python",
   "pygments_lexer": "ipython3",
   "version": "3.8.13"
  }
 },
 "nbformat": 4,
 "nbformat_minor": 5
}
